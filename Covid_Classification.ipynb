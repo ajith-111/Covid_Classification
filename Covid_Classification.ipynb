{
 "cells": [
  {
   "cell_type": "code",
   "execution_count": 1,
   "metadata": {
    "colab": {
     "base_uri": "https://localhost:8080/"
    },
    "id": "doSZzkM7EDGD",
    "outputId": "00b3f4d1-2135-4a87-8daf-4bf7b370454f"
   },
   "outputs": [],
   "source": [
    "# from google.colab import drive\n",
    "# drive.mount('/content/drive')"
   ]
  },
  {
   "cell_type": "code",
   "execution_count": 2,
   "metadata": {
    "id": "VDmIVSkLEL-r"
   },
   "outputs": [],
   "source": [
    "import pandas as pd\n",
    "import numpy as np \n",
    "import pickle"
   ]
  },
  {
   "cell_type": "code",
   "execution_count": 3,
   "metadata": {
    "id": "X6ItiSy3EOaW"
   },
   "outputs": [],
   "source": [
    "data = pd.read_csv(r'C:\\Users\\Ajith R\\Downloads\\Covid Data.csv\\Covid Data.csv')"
   ]
  },
  {
   "cell_type": "code",
   "execution_count": 4,
   "metadata": {
    "colab": {
     "base_uri": "https://localhost:8080/",
     "height": 299
    },
    "id": "pgrddCGLEkZf",
    "outputId": "05b06477-0dfd-44ac-d998-4b95997a3133"
   },
   "outputs": [
    {
     "data": {
      "text/html": [
       "<div>\n",
       "<style scoped>\n",
       "    .dataframe tbody tr th:only-of-type {\n",
       "        vertical-align: middle;\n",
       "    }\n",
       "\n",
       "    .dataframe tbody tr th {\n",
       "        vertical-align: top;\n",
       "    }\n",
       "\n",
       "    .dataframe thead th {\n",
       "        text-align: right;\n",
       "    }\n",
       "</style>\n",
       "<table border=\"1\" class=\"dataframe\">\n",
       "  <thead>\n",
       "    <tr style=\"text-align: right;\">\n",
       "      <th></th>\n",
       "      <th>USMER</th>\n",
       "      <th>MEDICAL_UNIT</th>\n",
       "      <th>SEX</th>\n",
       "      <th>PATIENT_TYPE</th>\n",
       "      <th>DATE_DIED</th>\n",
       "      <th>INTUBED</th>\n",
       "      <th>PNEUMONIA</th>\n",
       "      <th>AGE</th>\n",
       "      <th>PREGNANT</th>\n",
       "      <th>DIABETES</th>\n",
       "      <th>...</th>\n",
       "      <th>ASTHMA</th>\n",
       "      <th>INMSUPR</th>\n",
       "      <th>HIPERTENSION</th>\n",
       "      <th>OTHER_DISEASE</th>\n",
       "      <th>CARDIOVASCULAR</th>\n",
       "      <th>OBESITY</th>\n",
       "      <th>RENAL_CHRONIC</th>\n",
       "      <th>TOBACCO</th>\n",
       "      <th>CLASIFFICATION_FINAL</th>\n",
       "      <th>ICU</th>\n",
       "    </tr>\n",
       "  </thead>\n",
       "  <tbody>\n",
       "    <tr>\n",
       "      <th>0</th>\n",
       "      <td>2</td>\n",
       "      <td>1</td>\n",
       "      <td>1</td>\n",
       "      <td>1</td>\n",
       "      <td>03/05/2020</td>\n",
       "      <td>97</td>\n",
       "      <td>1</td>\n",
       "      <td>65</td>\n",
       "      <td>2</td>\n",
       "      <td>2</td>\n",
       "      <td>...</td>\n",
       "      <td>2</td>\n",
       "      <td>2</td>\n",
       "      <td>1</td>\n",
       "      <td>2</td>\n",
       "      <td>2</td>\n",
       "      <td>2</td>\n",
       "      <td>2</td>\n",
       "      <td>2</td>\n",
       "      <td>3</td>\n",
       "      <td>97</td>\n",
       "    </tr>\n",
       "    <tr>\n",
       "      <th>1</th>\n",
       "      <td>2</td>\n",
       "      <td>1</td>\n",
       "      <td>2</td>\n",
       "      <td>1</td>\n",
       "      <td>03/06/2020</td>\n",
       "      <td>97</td>\n",
       "      <td>1</td>\n",
       "      <td>72</td>\n",
       "      <td>97</td>\n",
       "      <td>2</td>\n",
       "      <td>...</td>\n",
       "      <td>2</td>\n",
       "      <td>2</td>\n",
       "      <td>1</td>\n",
       "      <td>2</td>\n",
       "      <td>2</td>\n",
       "      <td>1</td>\n",
       "      <td>1</td>\n",
       "      <td>2</td>\n",
       "      <td>5</td>\n",
       "      <td>97</td>\n",
       "    </tr>\n",
       "    <tr>\n",
       "      <th>2</th>\n",
       "      <td>2</td>\n",
       "      <td>1</td>\n",
       "      <td>2</td>\n",
       "      <td>2</td>\n",
       "      <td>09/06/2020</td>\n",
       "      <td>1</td>\n",
       "      <td>2</td>\n",
       "      <td>55</td>\n",
       "      <td>97</td>\n",
       "      <td>1</td>\n",
       "      <td>...</td>\n",
       "      <td>2</td>\n",
       "      <td>2</td>\n",
       "      <td>2</td>\n",
       "      <td>2</td>\n",
       "      <td>2</td>\n",
       "      <td>2</td>\n",
       "      <td>2</td>\n",
       "      <td>2</td>\n",
       "      <td>3</td>\n",
       "      <td>2</td>\n",
       "    </tr>\n",
       "    <tr>\n",
       "      <th>3</th>\n",
       "      <td>2</td>\n",
       "      <td>1</td>\n",
       "      <td>1</td>\n",
       "      <td>1</td>\n",
       "      <td>12/06/2020</td>\n",
       "      <td>97</td>\n",
       "      <td>2</td>\n",
       "      <td>53</td>\n",
       "      <td>2</td>\n",
       "      <td>2</td>\n",
       "      <td>...</td>\n",
       "      <td>2</td>\n",
       "      <td>2</td>\n",
       "      <td>2</td>\n",
       "      <td>2</td>\n",
       "      <td>2</td>\n",
       "      <td>2</td>\n",
       "      <td>2</td>\n",
       "      <td>2</td>\n",
       "      <td>7</td>\n",
       "      <td>97</td>\n",
       "    </tr>\n",
       "    <tr>\n",
       "      <th>4</th>\n",
       "      <td>2</td>\n",
       "      <td>1</td>\n",
       "      <td>2</td>\n",
       "      <td>1</td>\n",
       "      <td>21/06/2020</td>\n",
       "      <td>97</td>\n",
       "      <td>2</td>\n",
       "      <td>68</td>\n",
       "      <td>97</td>\n",
       "      <td>1</td>\n",
       "      <td>...</td>\n",
       "      <td>2</td>\n",
       "      <td>2</td>\n",
       "      <td>1</td>\n",
       "      <td>2</td>\n",
       "      <td>2</td>\n",
       "      <td>2</td>\n",
       "      <td>2</td>\n",
       "      <td>2</td>\n",
       "      <td>3</td>\n",
       "      <td>97</td>\n",
       "    </tr>\n",
       "  </tbody>\n",
       "</table>\n",
       "<p>5 rows × 21 columns</p>\n",
       "</div>"
      ],
      "text/plain": [
       "   USMER  MEDICAL_UNIT  SEX  PATIENT_TYPE   DATE_DIED  INTUBED  PNEUMONIA  \\\n",
       "0      2             1    1             1  03/05/2020       97          1   \n",
       "1      2             1    2             1  03/06/2020       97          1   \n",
       "2      2             1    2             2  09/06/2020        1          2   \n",
       "3      2             1    1             1  12/06/2020       97          2   \n",
       "4      2             1    2             1  21/06/2020       97          2   \n",
       "\n",
       "   AGE  PREGNANT  DIABETES  ...  ASTHMA  INMSUPR  HIPERTENSION  OTHER_DISEASE  \\\n",
       "0   65         2         2  ...       2        2             1              2   \n",
       "1   72        97         2  ...       2        2             1              2   \n",
       "2   55        97         1  ...       2        2             2              2   \n",
       "3   53         2         2  ...       2        2             2              2   \n",
       "4   68        97         1  ...       2        2             1              2   \n",
       "\n",
       "   CARDIOVASCULAR  OBESITY  RENAL_CHRONIC  TOBACCO  CLASIFFICATION_FINAL  ICU  \n",
       "0               2        2              2        2                     3   97  \n",
       "1               2        1              1        2                     5   97  \n",
       "2               2        2              2        2                     3    2  \n",
       "3               2        2              2        2                     7   97  \n",
       "4               2        2              2        2                     3   97  \n",
       "\n",
       "[5 rows x 21 columns]"
      ]
     },
     "execution_count": 4,
     "metadata": {},
     "output_type": "execute_result"
    }
   ],
   "source": [
    "data.head()"
   ]
  },
  {
   "cell_type": "code",
   "execution_count": 5,
   "metadata": {
    "colab": {
     "base_uri": "https://localhost:8080/"
    },
    "id": "8h5CY8bUErZb",
    "outputId": "43f983b5-74b3-47dc-cfa3-ae185bf797c3"
   },
   "outputs": [
    {
     "name": "stdout",
     "output_type": "stream",
     "text": [
      "<class 'pandas.core.frame.DataFrame'>\n",
      "RangeIndex: 1048575 entries, 0 to 1048574\n",
      "Data columns (total 21 columns):\n",
      " #   Column                Non-Null Count    Dtype \n",
      "---  ------                --------------    ----- \n",
      " 0   USMER                 1048575 non-null  int64 \n",
      " 1   MEDICAL_UNIT          1048575 non-null  int64 \n",
      " 2   SEX                   1048575 non-null  int64 \n",
      " 3   PATIENT_TYPE          1048575 non-null  int64 \n",
      " 4   DATE_DIED             1048575 non-null  object\n",
      " 5   INTUBED               1048575 non-null  int64 \n",
      " 6   PNEUMONIA             1048575 non-null  int64 \n",
      " 7   AGE                   1048575 non-null  int64 \n",
      " 8   PREGNANT              1048575 non-null  int64 \n",
      " 9   DIABETES              1048575 non-null  int64 \n",
      " 10  COPD                  1048575 non-null  int64 \n",
      " 11  ASTHMA                1048575 non-null  int64 \n",
      " 12  INMSUPR               1048575 non-null  int64 \n",
      " 13  HIPERTENSION          1048575 non-null  int64 \n",
      " 14  OTHER_DISEASE         1048575 non-null  int64 \n",
      " 15  CARDIOVASCULAR        1048575 non-null  int64 \n",
      " 16  OBESITY               1048575 non-null  int64 \n",
      " 17  RENAL_CHRONIC         1048575 non-null  int64 \n",
      " 18  TOBACCO               1048575 non-null  int64 \n",
      " 19  CLASIFFICATION_FINAL  1048575 non-null  int64 \n",
      " 20  ICU                   1048575 non-null  int64 \n",
      "dtypes: int64(20), object(1)\n",
      "memory usage: 168.0+ MB\n"
     ]
    }
   ],
   "source": [
    "data.info()"
   ]
  },
  {
   "cell_type": "code",
   "execution_count": 6,
   "metadata": {
    "colab": {
     "base_uri": "https://localhost:8080/",
     "height": 676
    },
    "id": "pa8hFUOAG7JY",
    "outputId": "81b39031-78f6-47d2-c1c8-58ef1dd59747"
   },
   "outputs": [
    {
     "data": {
      "text/html": [
       "<div>\n",
       "<style scoped>\n",
       "    .dataframe tbody tr th:only-of-type {\n",
       "        vertical-align: middle;\n",
       "    }\n",
       "\n",
       "    .dataframe tbody tr th {\n",
       "        vertical-align: top;\n",
       "    }\n",
       "\n",
       "    .dataframe thead th {\n",
       "        text-align: right;\n",
       "    }\n",
       "</style>\n",
       "<table border=\"1\" class=\"dataframe\">\n",
       "  <thead>\n",
       "    <tr style=\"text-align: right;\">\n",
       "      <th></th>\n",
       "      <th>count</th>\n",
       "      <th>mean</th>\n",
       "      <th>std</th>\n",
       "      <th>min</th>\n",
       "      <th>25%</th>\n",
       "      <th>50%</th>\n",
       "      <th>75%</th>\n",
       "      <th>max</th>\n",
       "    </tr>\n",
       "  </thead>\n",
       "  <tbody>\n",
       "    <tr>\n",
       "      <th>USMER</th>\n",
       "      <td>1048575.0</td>\n",
       "      <td>1.632194</td>\n",
       "      <td>0.482208</td>\n",
       "      <td>1.0</td>\n",
       "      <td>1.0</td>\n",
       "      <td>2.0</td>\n",
       "      <td>2.0</td>\n",
       "      <td>2.0</td>\n",
       "    </tr>\n",
       "    <tr>\n",
       "      <th>MEDICAL_UNIT</th>\n",
       "      <td>1048575.0</td>\n",
       "      <td>8.980565</td>\n",
       "      <td>3.723278</td>\n",
       "      <td>1.0</td>\n",
       "      <td>4.0</td>\n",
       "      <td>12.0</td>\n",
       "      <td>12.0</td>\n",
       "      <td>13.0</td>\n",
       "    </tr>\n",
       "    <tr>\n",
       "      <th>SEX</th>\n",
       "      <td>1048575.0</td>\n",
       "      <td>1.499259</td>\n",
       "      <td>0.500000</td>\n",
       "      <td>1.0</td>\n",
       "      <td>1.0</td>\n",
       "      <td>1.0</td>\n",
       "      <td>2.0</td>\n",
       "      <td>2.0</td>\n",
       "    </tr>\n",
       "    <tr>\n",
       "      <th>PATIENT_TYPE</th>\n",
       "      <td>1048575.0</td>\n",
       "      <td>1.190765</td>\n",
       "      <td>0.392904</td>\n",
       "      <td>1.0</td>\n",
       "      <td>1.0</td>\n",
       "      <td>1.0</td>\n",
       "      <td>1.0</td>\n",
       "      <td>2.0</td>\n",
       "    </tr>\n",
       "    <tr>\n",
       "      <th>INTUBED</th>\n",
       "      <td>1048575.0</td>\n",
       "      <td>79.522875</td>\n",
       "      <td>36.868886</td>\n",
       "      <td>1.0</td>\n",
       "      <td>97.0</td>\n",
       "      <td>97.0</td>\n",
       "      <td>97.0</td>\n",
       "      <td>99.0</td>\n",
       "    </tr>\n",
       "    <tr>\n",
       "      <th>PNEUMONIA</th>\n",
       "      <td>1048575.0</td>\n",
       "      <td>3.346831</td>\n",
       "      <td>11.912881</td>\n",
       "      <td>1.0</td>\n",
       "      <td>2.0</td>\n",
       "      <td>2.0</td>\n",
       "      <td>2.0</td>\n",
       "      <td>99.0</td>\n",
       "    </tr>\n",
       "    <tr>\n",
       "      <th>AGE</th>\n",
       "      <td>1048575.0</td>\n",
       "      <td>41.794102</td>\n",
       "      <td>16.907389</td>\n",
       "      <td>0.0</td>\n",
       "      <td>30.0</td>\n",
       "      <td>40.0</td>\n",
       "      <td>53.0</td>\n",
       "      <td>121.0</td>\n",
       "    </tr>\n",
       "    <tr>\n",
       "      <th>PREGNANT</th>\n",
       "      <td>1048575.0</td>\n",
       "      <td>49.765585</td>\n",
       "      <td>47.510733</td>\n",
       "      <td>1.0</td>\n",
       "      <td>2.0</td>\n",
       "      <td>97.0</td>\n",
       "      <td>97.0</td>\n",
       "      <td>98.0</td>\n",
       "    </tr>\n",
       "    <tr>\n",
       "      <th>DIABETES</th>\n",
       "      <td>1048575.0</td>\n",
       "      <td>2.186404</td>\n",
       "      <td>5.424242</td>\n",
       "      <td>1.0</td>\n",
       "      <td>2.0</td>\n",
       "      <td>2.0</td>\n",
       "      <td>2.0</td>\n",
       "      <td>98.0</td>\n",
       "    </tr>\n",
       "    <tr>\n",
       "      <th>COPD</th>\n",
       "      <td>1048575.0</td>\n",
       "      <td>2.260569</td>\n",
       "      <td>5.132258</td>\n",
       "      <td>1.0</td>\n",
       "      <td>2.0</td>\n",
       "      <td>2.0</td>\n",
       "      <td>2.0</td>\n",
       "      <td>98.0</td>\n",
       "    </tr>\n",
       "    <tr>\n",
       "      <th>ASTHMA</th>\n",
       "      <td>1048575.0</td>\n",
       "      <td>2.242626</td>\n",
       "      <td>5.114089</td>\n",
       "      <td>1.0</td>\n",
       "      <td>2.0</td>\n",
       "      <td>2.0</td>\n",
       "      <td>2.0</td>\n",
       "      <td>98.0</td>\n",
       "    </tr>\n",
       "    <tr>\n",
       "      <th>INMSUPR</th>\n",
       "      <td>1048575.0</td>\n",
       "      <td>2.298132</td>\n",
       "      <td>5.462843</td>\n",
       "      <td>1.0</td>\n",
       "      <td>2.0</td>\n",
       "      <td>2.0</td>\n",
       "      <td>2.0</td>\n",
       "      <td>98.0</td>\n",
       "    </tr>\n",
       "    <tr>\n",
       "      <th>HIPERTENSION</th>\n",
       "      <td>1048575.0</td>\n",
       "      <td>2.128989</td>\n",
       "      <td>5.236397</td>\n",
       "      <td>1.0</td>\n",
       "      <td>2.0</td>\n",
       "      <td>2.0</td>\n",
       "      <td>2.0</td>\n",
       "      <td>98.0</td>\n",
       "    </tr>\n",
       "    <tr>\n",
       "      <th>OTHER_DISEASE</th>\n",
       "      <td>1048575.0</td>\n",
       "      <td>2.435143</td>\n",
       "      <td>6.646676</td>\n",
       "      <td>1.0</td>\n",
       "      <td>2.0</td>\n",
       "      <td>2.0</td>\n",
       "      <td>2.0</td>\n",
       "      <td>98.0</td>\n",
       "    </tr>\n",
       "    <tr>\n",
       "      <th>CARDIOVASCULAR</th>\n",
       "      <td>1048575.0</td>\n",
       "      <td>2.261810</td>\n",
       "      <td>5.194850</td>\n",
       "      <td>1.0</td>\n",
       "      <td>2.0</td>\n",
       "      <td>2.0</td>\n",
       "      <td>2.0</td>\n",
       "      <td>98.0</td>\n",
       "    </tr>\n",
       "    <tr>\n",
       "      <th>OBESITY</th>\n",
       "      <td>1048575.0</td>\n",
       "      <td>2.125176</td>\n",
       "      <td>5.175445</td>\n",
       "      <td>1.0</td>\n",
       "      <td>2.0</td>\n",
       "      <td>2.0</td>\n",
       "      <td>2.0</td>\n",
       "      <td>98.0</td>\n",
       "    </tr>\n",
       "    <tr>\n",
       "      <th>RENAL_CHRONIC</th>\n",
       "      <td>1048575.0</td>\n",
       "      <td>2.257180</td>\n",
       "      <td>5.135354</td>\n",
       "      <td>1.0</td>\n",
       "      <td>2.0</td>\n",
       "      <td>2.0</td>\n",
       "      <td>2.0</td>\n",
       "      <td>98.0</td>\n",
       "    </tr>\n",
       "    <tr>\n",
       "      <th>TOBACCO</th>\n",
       "      <td>1048575.0</td>\n",
       "      <td>2.214333</td>\n",
       "      <td>5.323097</td>\n",
       "      <td>1.0</td>\n",
       "      <td>2.0</td>\n",
       "      <td>2.0</td>\n",
       "      <td>2.0</td>\n",
       "      <td>98.0</td>\n",
       "    </tr>\n",
       "    <tr>\n",
       "      <th>CLASIFFICATION_FINAL</th>\n",
       "      <td>1048575.0</td>\n",
       "      <td>5.305653</td>\n",
       "      <td>1.881165</td>\n",
       "      <td>1.0</td>\n",
       "      <td>3.0</td>\n",
       "      <td>6.0</td>\n",
       "      <td>7.0</td>\n",
       "      <td>7.0</td>\n",
       "    </tr>\n",
       "    <tr>\n",
       "      <th>ICU</th>\n",
       "      <td>1048575.0</td>\n",
       "      <td>79.553974</td>\n",
       "      <td>36.823073</td>\n",
       "      <td>1.0</td>\n",
       "      <td>97.0</td>\n",
       "      <td>97.0</td>\n",
       "      <td>97.0</td>\n",
       "      <td>99.0</td>\n",
       "    </tr>\n",
       "  </tbody>\n",
       "</table>\n",
       "</div>"
      ],
      "text/plain": [
       "                          count       mean        std  min   25%   50%   75%  \\\n",
       "USMER                 1048575.0   1.632194   0.482208  1.0   1.0   2.0   2.0   \n",
       "MEDICAL_UNIT          1048575.0   8.980565   3.723278  1.0   4.0  12.0  12.0   \n",
       "SEX                   1048575.0   1.499259   0.500000  1.0   1.0   1.0   2.0   \n",
       "PATIENT_TYPE          1048575.0   1.190765   0.392904  1.0   1.0   1.0   1.0   \n",
       "INTUBED               1048575.0  79.522875  36.868886  1.0  97.0  97.0  97.0   \n",
       "PNEUMONIA             1048575.0   3.346831  11.912881  1.0   2.0   2.0   2.0   \n",
       "AGE                   1048575.0  41.794102  16.907389  0.0  30.0  40.0  53.0   \n",
       "PREGNANT              1048575.0  49.765585  47.510733  1.0   2.0  97.0  97.0   \n",
       "DIABETES              1048575.0   2.186404   5.424242  1.0   2.0   2.0   2.0   \n",
       "COPD                  1048575.0   2.260569   5.132258  1.0   2.0   2.0   2.0   \n",
       "ASTHMA                1048575.0   2.242626   5.114089  1.0   2.0   2.0   2.0   \n",
       "INMSUPR               1048575.0   2.298132   5.462843  1.0   2.0   2.0   2.0   \n",
       "HIPERTENSION          1048575.0   2.128989   5.236397  1.0   2.0   2.0   2.0   \n",
       "OTHER_DISEASE         1048575.0   2.435143   6.646676  1.0   2.0   2.0   2.0   \n",
       "CARDIOVASCULAR        1048575.0   2.261810   5.194850  1.0   2.0   2.0   2.0   \n",
       "OBESITY               1048575.0   2.125176   5.175445  1.0   2.0   2.0   2.0   \n",
       "RENAL_CHRONIC         1048575.0   2.257180   5.135354  1.0   2.0   2.0   2.0   \n",
       "TOBACCO               1048575.0   2.214333   5.323097  1.0   2.0   2.0   2.0   \n",
       "CLASIFFICATION_FINAL  1048575.0   5.305653   1.881165  1.0   3.0   6.0   7.0   \n",
       "ICU                   1048575.0  79.553974  36.823073  1.0  97.0  97.0  97.0   \n",
       "\n",
       "                        max  \n",
       "USMER                   2.0  \n",
       "MEDICAL_UNIT           13.0  \n",
       "SEX                     2.0  \n",
       "PATIENT_TYPE            2.0  \n",
       "INTUBED                99.0  \n",
       "PNEUMONIA              99.0  \n",
       "AGE                   121.0  \n",
       "PREGNANT               98.0  \n",
       "DIABETES               98.0  \n",
       "COPD                   98.0  \n",
       "ASTHMA                 98.0  \n",
       "INMSUPR                98.0  \n",
       "HIPERTENSION           98.0  \n",
       "OTHER_DISEASE          98.0  \n",
       "CARDIOVASCULAR         98.0  \n",
       "OBESITY                98.0  \n",
       "RENAL_CHRONIC          98.0  \n",
       "TOBACCO                98.0  \n",
       "CLASIFFICATION_FINAL    7.0  \n",
       "ICU                    99.0  "
      ]
     },
     "execution_count": 6,
     "metadata": {},
     "output_type": "execute_result"
    }
   ],
   "source": [
    "data.describe().T"
   ]
  },
  {
   "cell_type": "code",
   "execution_count": 7,
   "metadata": {
    "colab": {
     "base_uri": "https://localhost:8080/",
     "height": 661
    },
    "id": "bARqjlJ7HIeU",
    "outputId": "17c49a07-fd02-4907-ee7c-a8dd350d1e6b"
   },
   "outputs": [
    {
     "data": {
      "text/html": [
       "<div>\n",
       "<style scoped>\n",
       "    .dataframe tbody tr th:only-of-type {\n",
       "        vertical-align: middle;\n",
       "    }\n",
       "\n",
       "    .dataframe tbody tr th {\n",
       "        vertical-align: top;\n",
       "    }\n",
       "\n",
       "    .dataframe thead th {\n",
       "        text-align: right;\n",
       "    }\n",
       "</style>\n",
       "<table border=\"1\" class=\"dataframe\">\n",
       "  <thead>\n",
       "    <tr style=\"text-align: right;\">\n",
       "      <th></th>\n",
       "      <th>USMER</th>\n",
       "      <th>MEDICAL_UNIT</th>\n",
       "      <th>SEX</th>\n",
       "      <th>PATIENT_TYPE</th>\n",
       "      <th>DATE_DIED</th>\n",
       "      <th>INTUBED</th>\n",
       "      <th>PNEUMONIA</th>\n",
       "      <th>AGE</th>\n",
       "      <th>PREGNANT</th>\n",
       "      <th>DIABETES</th>\n",
       "      <th>...</th>\n",
       "      <th>ASTHMA</th>\n",
       "      <th>INMSUPR</th>\n",
       "      <th>HIPERTENSION</th>\n",
       "      <th>OTHER_DISEASE</th>\n",
       "      <th>CARDIOVASCULAR</th>\n",
       "      <th>OBESITY</th>\n",
       "      <th>RENAL_CHRONIC</th>\n",
       "      <th>TOBACCO</th>\n",
       "      <th>CLASIFFICATION_FINAL</th>\n",
       "      <th>ICU</th>\n",
       "    </tr>\n",
       "  </thead>\n",
       "  <tbody>\n",
       "    <tr>\n",
       "      <th>6</th>\n",
       "      <td>2</td>\n",
       "      <td>1</td>\n",
       "      <td>1</td>\n",
       "      <td>1</td>\n",
       "      <td>9999-99-99</td>\n",
       "      <td>97</td>\n",
       "      <td>2</td>\n",
       "      <td>64</td>\n",
       "      <td>2</td>\n",
       "      <td>2</td>\n",
       "      <td>...</td>\n",
       "      <td>2</td>\n",
       "      <td>2</td>\n",
       "      <td>2</td>\n",
       "      <td>2</td>\n",
       "      <td>2</td>\n",
       "      <td>2</td>\n",
       "      <td>2</td>\n",
       "      <td>2</td>\n",
       "      <td>3</td>\n",
       "      <td>97</td>\n",
       "    </tr>\n",
       "    <tr>\n",
       "      <th>19</th>\n",
       "      <td>2</td>\n",
       "      <td>1</td>\n",
       "      <td>1</td>\n",
       "      <td>1</td>\n",
       "      <td>9999-99-99</td>\n",
       "      <td>97</td>\n",
       "      <td>2</td>\n",
       "      <td>64</td>\n",
       "      <td>2</td>\n",
       "      <td>2</td>\n",
       "      <td>...</td>\n",
       "      <td>2</td>\n",
       "      <td>2</td>\n",
       "      <td>2</td>\n",
       "      <td>2</td>\n",
       "      <td>2</td>\n",
       "      <td>2</td>\n",
       "      <td>2</td>\n",
       "      <td>2</td>\n",
       "      <td>3</td>\n",
       "      <td>97</td>\n",
       "    </tr>\n",
       "    <tr>\n",
       "      <th>22</th>\n",
       "      <td>2</td>\n",
       "      <td>1</td>\n",
       "      <td>2</td>\n",
       "      <td>1</td>\n",
       "      <td>9999-99-99</td>\n",
       "      <td>97</td>\n",
       "      <td>2</td>\n",
       "      <td>45</td>\n",
       "      <td>97</td>\n",
       "      <td>2</td>\n",
       "      <td>...</td>\n",
       "      <td>2</td>\n",
       "      <td>2</td>\n",
       "      <td>2</td>\n",
       "      <td>2</td>\n",
       "      <td>2</td>\n",
       "      <td>2</td>\n",
       "      <td>2</td>\n",
       "      <td>2</td>\n",
       "      <td>3</td>\n",
       "      <td>97</td>\n",
       "    </tr>\n",
       "    <tr>\n",
       "      <th>35</th>\n",
       "      <td>2</td>\n",
       "      <td>1</td>\n",
       "      <td>2</td>\n",
       "      <td>1</td>\n",
       "      <td>9999-99-99</td>\n",
       "      <td>97</td>\n",
       "      <td>2</td>\n",
       "      <td>45</td>\n",
       "      <td>97</td>\n",
       "      <td>2</td>\n",
       "      <td>...</td>\n",
       "      <td>2</td>\n",
       "      <td>2</td>\n",
       "      <td>2</td>\n",
       "      <td>2</td>\n",
       "      <td>2</td>\n",
       "      <td>2</td>\n",
       "      <td>2</td>\n",
       "      <td>2</td>\n",
       "      <td>3</td>\n",
       "      <td>97</td>\n",
       "    </tr>\n",
       "    <tr>\n",
       "      <th>49</th>\n",
       "      <td>2</td>\n",
       "      <td>1</td>\n",
       "      <td>1</td>\n",
       "      <td>1</td>\n",
       "      <td>9999-99-99</td>\n",
       "      <td>97</td>\n",
       "      <td>2</td>\n",
       "      <td>30</td>\n",
       "      <td>2</td>\n",
       "      <td>2</td>\n",
       "      <td>...</td>\n",
       "      <td>2</td>\n",
       "      <td>2</td>\n",
       "      <td>2</td>\n",
       "      <td>2</td>\n",
       "      <td>2</td>\n",
       "      <td>2</td>\n",
       "      <td>2</td>\n",
       "      <td>2</td>\n",
       "      <td>7</td>\n",
       "      <td>97</td>\n",
       "    </tr>\n",
       "    <tr>\n",
       "      <th>...</th>\n",
       "      <td>...</td>\n",
       "      <td>...</td>\n",
       "      <td>...</td>\n",
       "      <td>...</td>\n",
       "      <td>...</td>\n",
       "      <td>...</td>\n",
       "      <td>...</td>\n",
       "      <td>...</td>\n",
       "      <td>...</td>\n",
       "      <td>...</td>\n",
       "      <td>...</td>\n",
       "      <td>...</td>\n",
       "      <td>...</td>\n",
       "      <td>...</td>\n",
       "      <td>...</td>\n",
       "      <td>...</td>\n",
       "      <td>...</td>\n",
       "      <td>...</td>\n",
       "      <td>...</td>\n",
       "      <td>...</td>\n",
       "      <td>...</td>\n",
       "    </tr>\n",
       "    <tr>\n",
       "      <th>1048556</th>\n",
       "      <td>2</td>\n",
       "      <td>13</td>\n",
       "      <td>2</td>\n",
       "      <td>1</td>\n",
       "      <td>9999-99-99</td>\n",
       "      <td>97</td>\n",
       "      <td>2</td>\n",
       "      <td>31</td>\n",
       "      <td>97</td>\n",
       "      <td>2</td>\n",
       "      <td>...</td>\n",
       "      <td>2</td>\n",
       "      <td>2</td>\n",
       "      <td>2</td>\n",
       "      <td>2</td>\n",
       "      <td>2</td>\n",
       "      <td>2</td>\n",
       "      <td>2</td>\n",
       "      <td>2</td>\n",
       "      <td>7</td>\n",
       "      <td>97</td>\n",
       "    </tr>\n",
       "    <tr>\n",
       "      <th>1048558</th>\n",
       "      <td>1</td>\n",
       "      <td>13</td>\n",
       "      <td>2</td>\n",
       "      <td>1</td>\n",
       "      <td>9999-99-99</td>\n",
       "      <td>97</td>\n",
       "      <td>2</td>\n",
       "      <td>28</td>\n",
       "      <td>97</td>\n",
       "      <td>2</td>\n",
       "      <td>...</td>\n",
       "      <td>2</td>\n",
       "      <td>2</td>\n",
       "      <td>2</td>\n",
       "      <td>2</td>\n",
       "      <td>2</td>\n",
       "      <td>2</td>\n",
       "      <td>2</td>\n",
       "      <td>2</td>\n",
       "      <td>7</td>\n",
       "      <td>97</td>\n",
       "    </tr>\n",
       "    <tr>\n",
       "      <th>1048566</th>\n",
       "      <td>2</td>\n",
       "      <td>13</td>\n",
       "      <td>2</td>\n",
       "      <td>1</td>\n",
       "      <td>9999-99-99</td>\n",
       "      <td>97</td>\n",
       "      <td>2</td>\n",
       "      <td>24</td>\n",
       "      <td>97</td>\n",
       "      <td>2</td>\n",
       "      <td>...</td>\n",
       "      <td>1</td>\n",
       "      <td>2</td>\n",
       "      <td>2</td>\n",
       "      <td>2</td>\n",
       "      <td>2</td>\n",
       "      <td>2</td>\n",
       "      <td>2</td>\n",
       "      <td>2</td>\n",
       "      <td>7</td>\n",
       "      <td>97</td>\n",
       "    </tr>\n",
       "    <tr>\n",
       "      <th>1048570</th>\n",
       "      <td>2</td>\n",
       "      <td>13</td>\n",
       "      <td>2</td>\n",
       "      <td>1</td>\n",
       "      <td>9999-99-99</td>\n",
       "      <td>97</td>\n",
       "      <td>2</td>\n",
       "      <td>40</td>\n",
       "      <td>97</td>\n",
       "      <td>2</td>\n",
       "      <td>...</td>\n",
       "      <td>2</td>\n",
       "      <td>2</td>\n",
       "      <td>2</td>\n",
       "      <td>2</td>\n",
       "      <td>2</td>\n",
       "      <td>2</td>\n",
       "      <td>2</td>\n",
       "      <td>2</td>\n",
       "      <td>7</td>\n",
       "      <td>97</td>\n",
       "    </tr>\n",
       "    <tr>\n",
       "      <th>1048573</th>\n",
       "      <td>2</td>\n",
       "      <td>13</td>\n",
       "      <td>2</td>\n",
       "      <td>1</td>\n",
       "      <td>9999-99-99</td>\n",
       "      <td>97</td>\n",
       "      <td>2</td>\n",
       "      <td>28</td>\n",
       "      <td>97</td>\n",
       "      <td>2</td>\n",
       "      <td>...</td>\n",
       "      <td>2</td>\n",
       "      <td>2</td>\n",
       "      <td>2</td>\n",
       "      <td>2</td>\n",
       "      <td>2</td>\n",
       "      <td>2</td>\n",
       "      <td>2</td>\n",
       "      <td>2</td>\n",
       "      <td>7</td>\n",
       "      <td>97</td>\n",
       "    </tr>\n",
       "  </tbody>\n",
       "</table>\n",
       "<p>867721 rows × 21 columns</p>\n",
       "</div>"
      ],
      "text/plain": [
       "         USMER  MEDICAL_UNIT  SEX  PATIENT_TYPE   DATE_DIED  INTUBED  \\\n",
       "6            2             1    1             1  9999-99-99       97   \n",
       "19           2             1    1             1  9999-99-99       97   \n",
       "22           2             1    2             1  9999-99-99       97   \n",
       "35           2             1    2             1  9999-99-99       97   \n",
       "49           2             1    1             1  9999-99-99       97   \n",
       "...        ...           ...  ...           ...         ...      ...   \n",
       "1048556      2            13    2             1  9999-99-99       97   \n",
       "1048558      1            13    2             1  9999-99-99       97   \n",
       "1048566      2            13    2             1  9999-99-99       97   \n",
       "1048570      2            13    2             1  9999-99-99       97   \n",
       "1048573      2            13    2             1  9999-99-99       97   \n",
       "\n",
       "         PNEUMONIA  AGE  PREGNANT  DIABETES  ...  ASTHMA  INMSUPR  \\\n",
       "6                2   64         2         2  ...       2        2   \n",
       "19               2   64         2         2  ...       2        2   \n",
       "22               2   45        97         2  ...       2        2   \n",
       "35               2   45        97         2  ...       2        2   \n",
       "49               2   30         2         2  ...       2        2   \n",
       "...            ...  ...       ...       ...  ...     ...      ...   \n",
       "1048556          2   31        97         2  ...       2        2   \n",
       "1048558          2   28        97         2  ...       2        2   \n",
       "1048566          2   24        97         2  ...       1        2   \n",
       "1048570          2   40        97         2  ...       2        2   \n",
       "1048573          2   28        97         2  ...       2        2   \n",
       "\n",
       "         HIPERTENSION  OTHER_DISEASE  CARDIOVASCULAR  OBESITY  RENAL_CHRONIC  \\\n",
       "6                   2              2               2        2              2   \n",
       "19                  2              2               2        2              2   \n",
       "22                  2              2               2        2              2   \n",
       "35                  2              2               2        2              2   \n",
       "49                  2              2               2        2              2   \n",
       "...               ...            ...             ...      ...            ...   \n",
       "1048556             2              2               2        2              2   \n",
       "1048558             2              2               2        2              2   \n",
       "1048566             2              2               2        2              2   \n",
       "1048570             2              2               2        2              2   \n",
       "1048573             2              2               2        2              2   \n",
       "\n",
       "         TOBACCO  CLASIFFICATION_FINAL  ICU  \n",
       "6              2                     3   97  \n",
       "19             2                     3   97  \n",
       "22             2                     3   97  \n",
       "35             2                     3   97  \n",
       "49             2                     7   97  \n",
       "...          ...                   ...  ...  \n",
       "1048556        2                     7   97  \n",
       "1048558        2                     7   97  \n",
       "1048566        2                     7   97  \n",
       "1048570        2                     7   97  \n",
       "1048573        2                     7   97  \n",
       "\n",
       "[867721 rows x 21 columns]"
      ]
     },
     "execution_count": 7,
     "metadata": {},
     "output_type": "execute_result"
    }
   ],
   "source": [
    "\n",
    "data[data.duplicated(keep=False)]"
   ]
  },
  {
   "cell_type": "code",
   "execution_count": 8,
   "metadata": {
    "id": "hPyYVtPCLyIi"
   },
   "outputs": [],
   "source": [
    "data.drop_duplicates(keep='first', inplace=True)\n"
   ]
  },
  {
   "cell_type": "code",
   "execution_count": 9,
   "metadata": {
    "colab": {
     "base_uri": "https://localhost:8080/"
    },
    "id": "ZgmSReKBMz53",
    "outputId": "6b1ad041-e79b-4d63-8bb6-2c27d59f0354"
   },
   "outputs": [
    {
     "name": "stdout",
     "output_type": "stream",
     "text": [
      "<class 'pandas.core.frame.DataFrame'>\n",
      "Int64Index: 236526 entries, 0 to 1048574\n",
      "Data columns (total 21 columns):\n",
      " #   Column                Non-Null Count   Dtype \n",
      "---  ------                --------------   ----- \n",
      " 0   USMER                 236526 non-null  int64 \n",
      " 1   MEDICAL_UNIT          236526 non-null  int64 \n",
      " 2   SEX                   236526 non-null  int64 \n",
      " 3   PATIENT_TYPE          236526 non-null  int64 \n",
      " 4   DATE_DIED             236526 non-null  object\n",
      " 5   INTUBED               236526 non-null  int64 \n",
      " 6   PNEUMONIA             236526 non-null  int64 \n",
      " 7   AGE                   236526 non-null  int64 \n",
      " 8   PREGNANT              236526 non-null  int64 \n",
      " 9   DIABETES              236526 non-null  int64 \n",
      " 10  COPD                  236526 non-null  int64 \n",
      " 11  ASTHMA                236526 non-null  int64 \n",
      " 12  INMSUPR               236526 non-null  int64 \n",
      " 13  HIPERTENSION          236526 non-null  int64 \n",
      " 14  OTHER_DISEASE         236526 non-null  int64 \n",
      " 15  CARDIOVASCULAR        236526 non-null  int64 \n",
      " 16  OBESITY               236526 non-null  int64 \n",
      " 17  RENAL_CHRONIC         236526 non-null  int64 \n",
      " 18  TOBACCO               236526 non-null  int64 \n",
      " 19  CLASIFFICATION_FINAL  236526 non-null  int64 \n",
      " 20  ICU                   236526 non-null  int64 \n",
      "dtypes: int64(20), object(1)\n",
      "memory usage: 39.7+ MB\n"
     ]
    }
   ],
   "source": [
    "data.info()"
   ]
  },
  {
   "cell_type": "code",
   "execution_count": 10,
   "metadata": {
    "colab": {
     "base_uri": "https://localhost:8080/"
    },
    "id": "Mpkir-kJN0gP",
    "outputId": "40a4a3cf-e5f3-4326-cab3-c3fb76f74176"
   },
   "outputs": [
    {
     "data": {
      "text/plain": [
       "USMER                     2\n",
       "MEDICAL_UNIT             13\n",
       "SEX                       2\n",
       "PATIENT_TYPE              2\n",
       "DATE_DIED               401\n",
       "INTUBED                   4\n",
       "PNEUMONIA                 3\n",
       "AGE                     121\n",
       "PREGNANT                  4\n",
       "DIABETES                  3\n",
       "COPD                      3\n",
       "ASTHMA                    3\n",
       "INMSUPR                   3\n",
       "HIPERTENSION              3\n",
       "OTHER_DISEASE             3\n",
       "CARDIOVASCULAR            3\n",
       "OBESITY                   3\n",
       "RENAL_CHRONIC             3\n",
       "TOBACCO                   3\n",
       "CLASIFFICATION_FINAL      7\n",
       "ICU                       4\n",
       "dtype: int64"
      ]
     },
     "execution_count": 10,
     "metadata": {},
     "output_type": "execute_result"
    }
   ],
   "source": [
    "data.nunique()"
   ]
  },
  {
   "cell_type": "code",
   "execution_count": 11,
   "metadata": {
    "id": "p7fsUOlBKX_W"
   },
   "outputs": [],
   "source": [
    "data['Death'] = np.where(data['DATE_DIED'] == '9999-99-99' ,2,1)\n"
   ]
  },
  {
   "cell_type": "code",
   "execution_count": 12,
   "metadata": {
    "colab": {
     "base_uri": "https://localhost:8080/"
    },
    "id": "W78xjvjQQj2j",
    "outputId": "3f490f9a-7caf-4a59-bdd8-c52bad6b8ec1"
   },
   "outputs": [
    {
     "data": {
      "text/plain": [
       "2    160561\n",
       "1     75965\n",
       "Name: Death, dtype: int64"
      ]
     },
     "execution_count": 12,
     "metadata": {},
     "output_type": "execute_result"
    }
   ],
   "source": [
    "data['Death'].value_counts()"
   ]
  },
  {
   "cell_type": "code",
   "execution_count": 13,
   "metadata": {
    "colab": {
     "base_uri": "https://localhost:8080/",
     "height": 1000
    },
    "id": "nBLNqBeMa4Xl",
    "outputId": "0f8ec4db-fcdb-4382-c4d0-90fd341dc6ff"
   },
   "outputs": [
    {
     "data": {
      "image/png": "[encoded data removed]",
      "text/plain": [
       "<Figure size 432x288 with 1 Axes>"
      ]
     },
     "metadata": {
      "needs_background": "light"
     },
     "output_type": "display_data"
    },
    {
     "data": {
      "image/png": "[encoded data removed]",
      "text/plain": [
       "<Figure size 432x288 with 1 Axes>"
      ]
     },
     "metadata": {
      "needs_background": "light"
     },
     "output_type": "display_data"
    },
    {
     "data": {
      "image/png": "[encoded data removed]",
      "text/plain": [
       "<Figure size 432x288 with 1 Axes>"
      ]
     },
     "metadata": {
      "needs_background": "light"
     },
     "output_type": "display_data"
    },
    {
     "data": {
      "image/png": "[encoded data removed]",
      "text/plain": [
       "<Figure size 432x288 with 1 Axes>"
      ]
     },
     "metadata": {
      "needs_background": "light"
     },
     "output_type": "display_data"
    },
    {
     "data": {
      "image/png": "[encoded data removed]",
      "text/plain": [
       "<Figure size 432x288 with 1 Axes>"
      ]
     },
     "metadata": {
      "needs_background": "light"
     },
     "output_type": "display_data"
    },
    {
     "data": {
      "image/png": "[encoded data removed]",
      "text/plain": [
       "<Figure size 432x288 with 1 Axes>"
      ]
     },
     "metadata": {
      "needs_background": "light"
     },
     "output_type": "display_data"
    },
    {
     "data": {
      "image/png": "[encoded data removed]",
      "text/plain": [
       "<Figure size 432x288 with 1 Axes>"
      ]
     },
     "metadata": {
      "needs_background": "light"
     },
     "output_type": "display_data"
    },
    {
     "data": {
      "image/png": "[encoded data removed]",
      "text/plain": [
       "<Figure size 432x288 with 1 Axes>"
      ]
     },
     "metadata": {
      "needs_background": "light"
     },
     "output_type": "display_data"
    },
    {
     "data": {
      "image/png": "[encoded data removed]",
      "text/plain": [
       "<Figure size 432x288 with 1 Axes>"
      ]
     },
     "metadata": {
      "needs_background": "light"
     },
     "output_type": "display_data"
    },
    {
     "data": {
      "image/png": "[encoded data removed]",
      "text/plain": [
       "<Figure size 432x288 with 1 Axes>"
      ]
     },
     "metadata": {
      "needs_background": "light"
     },
     "output_type": "display_data"
    },
    {
     "data": {
      "image/png": "[encoded data removed]",
      "text/plain": [
       "<Figure size 432x288 with 1 Axes>"
      ]
     },
     "metadata": {
      "needs_background": "light"
     },
     "output_type": "display_data"
    },
    {
     "data": {
      "image/png": "[encoded data removed]",
      "text/plain": [
       "<Figure size 432x288 with 1 Axes>"
      ]
     },
     "metadata": {
      "needs_background": "light"
     },
     "output_type": "display_data"
    },
    {
     "data": {
      "image/png": "[encoded data removed]",
      "text/plain": [
       "<Figure size 432x288 with 1 Axes>"
      ]
     },
     "metadata": {
      "needs_background": "light"
     },
     "output_type": "display_data"
    },
    {
     "data": {
      "image/png": "[encoded data removed]",
      "text/plain": [
       "<Figure size 432x288 with 1 Axes>"
      ]
     },
     "metadata": {
      "needs_background": "light"
     },
     "output_type": "display_data"
    },
    {
     "data": {
      "image/png": "[encoded data removed]",
      "text/plain": [
       "<Figure size 432x288 with 1 Axes>"
      ]
     },
     "metadata": {
      "needs_background": "light"
     },
     "output_type": "display_data"
    },
    {
     "data": {
      "image/png": "[encoded data removed]",
      "text/plain": [
       "<Figure size 432x288 with 1 Axes>"
      ]
     },
     "metadata": {
      "needs_background": "light"
     },
     "output_type": "display_data"
    },
    {
     "data": {
      "image/png": "[encoded data removed]",
      "text/plain": [
       "<Figure size 432x288 with 1 Axes>"
      ]
     },
     "metadata": {
      "needs_background": "light"
     },
     "output_type": "display_data"
    },
    {
     "data": {
      "image/png": "[encoded data removed]",
      "text/plain": [
       "<Figure size 432x288 with 1 Axes>"
      ]
     },
     "metadata": {
      "needs_background": "light"
     },
     "output_type": "display_data"
    },
    {
     "data": {
      "image/png": "[encoded data removed]",
      "text/plain": [
       "<Figure size 432x288 with 1 Axes>"
      ]
     },
     "metadata": {
      "needs_background": "light"
     },
     "output_type": "display_data"
    }
   ],
   "source": [
    "import seaborn as sns\n",
    "import matplotlib.pyplot as plt\n",
    "for col in data.select_dtypes(include='int64'):\n",
    "    if data[col].nunique() <= 14:\n",
    "        sns.countplot(y=col, data=data)\n",
    "        plt.show()"
   ]
  },
  {
   "cell_type": "code",
   "execution_count": 14,
   "metadata": {
    "id": "MTjM0RZQnASJ"
   },
   "outputs": [],
   "source": [
    "list1 = [97,98,99]"
   ]
  },
  {
   "cell_type": "code",
   "execution_count": 15,
   "metadata": {
    "id": "1Ix1ekXGoHi6"
   },
   "outputs": [],
   "source": [
    "list2 = data.columns[data.isin(list1).any()]"
   ]
  },
  {
   "cell_type": "code",
   "execution_count": 16,
   "metadata": {
    "colab": {
     "base_uri": "https://localhost:8080/"
    },
    "id": "uuxam4uuoSY6",
    "outputId": "3544a840-794d-49e7-a791-0f9c237a48b4",
    "scrolled": true
   },
   "outputs": [
    {
     "data": {
      "text/plain": [
       "Index(['INTUBED', 'PNEUMONIA', 'AGE', 'PREGNANT', 'DIABETES', 'COPD', 'ASTHMA',\n",
       "       'INMSUPR', 'HIPERTENSION', 'OTHER_DISEASE', 'CARDIOVASCULAR', 'OBESITY',\n",
       "       'RENAL_CHRONIC', 'TOBACCO', 'ICU'],\n",
       "      dtype='object')"
      ]
     },
     "execution_count": 16,
     "metadata": {},
     "output_type": "execute_result"
    }
   ],
   "source": [
    "list2"
   ]
  },
  {
   "cell_type": "code",
   "execution_count": 17,
   "metadata": {},
   "outputs": [
    {
     "data": {
      "text/plain": [
       "SEX  PREGNANT\n",
       "1    2           102049\n",
       "     1             3020\n",
       "     98            1954\n",
       "2    97          129503\n",
       "Name: PREGNANT, dtype: int64"
      ]
     },
     "execution_count": 17,
     "metadata": {},
     "output_type": "execute_result"
    }
   ],
   "source": [
    "data.groupby('SEX')['PREGNANT'].value_counts()"
   ]
  },
  {
   "cell_type": "code",
   "execution_count": 18,
   "metadata": {},
   "outputs": [],
   "source": [
    "data['PREGNANT'] = data['PREGNANT'].replace(97,2)\n",
    "data['PREGNANT'] = data['PREGNANT'].replace(98,2)"
   ]
  },
  {
   "cell_type": "code",
   "execution_count": 19,
   "metadata": {},
   "outputs": [
    {
     "data": {
      "text/plain": [
       "SEX  PREGNANT\n",
       "1    2           104003\n",
       "     1             3020\n",
       "2    2           129503\n",
       "Name: PREGNANT, dtype: int64"
      ]
     },
     "execution_count": 19,
     "metadata": {},
     "output_type": "execute_result"
    }
   ],
   "source": [
    "data.groupby('SEX')['PREGNANT'].value_counts()"
   ]
  },
  {
   "cell_type": "code",
   "execution_count": 20,
   "metadata": {
    "colab": {
     "base_uri": "https://localhost:8080/"
    },
    "id": "wNmiZKaTqFAI",
    "outputId": "1ffe51de-4db2-4dec-c0f6-40cb795b3044"
   },
   "outputs": [
    {
     "name": "stdout",
     "output_type": "stream",
     "text": [
      "INTUBED\n",
      "2.0    98844\n",
      "1.0    32295\n",
      "Name: INTUBED, dtype: int64\n",
      "PNEUMONIA\n",
      "2.0    129609\n",
      "1.0     99730\n",
      "Name: PNEUMONIA, dtype: int64\n",
      "AGE\n",
      "56.0     5047\n",
      "60.0     4909\n",
      "59.0     4878\n",
      "57.0     4854\n",
      "55.0     4802\n",
      "         ... \n",
      "118.0       2\n",
      "115.0       2\n",
      "111.0       1\n",
      "121.0       1\n",
      "113.0       1\n",
      "Name: AGE, Length: 118, dtype: int64\n",
      "PREGNANT\n",
      "2.0    233506\n",
      "1.0      3020\n",
      "Name: PREGNANT, dtype: int64\n",
      "DIABETES\n",
      "2.0    159930\n",
      "1.0     73756\n",
      "Name: DIABETES, dtype: int64\n",
      "COPD\n",
      "2.0    219928\n",
      "1.0     14069\n",
      "Name: COPD, dtype: int64\n",
      "ASTHMA\n",
      "2.0    217984\n",
      "1.0     16036\n",
      "Name: ASTHMA, dtype: int64\n",
      "INMSUPR\n",
      "2.0    221310\n",
      "1.0     12290\n",
      "Name: INMSUPR, dtype: int64\n",
      "HIPERTENSION\n",
      "2.0    145901\n",
      "1.0     88005\n",
      "Name: HIPERTENSION, dtype: int64\n",
      "OTHER_DISEASE\n",
      "2.0    212584\n",
      "1.0     19580\n",
      "Name: OTHER_DISEASE, dtype: int64\n",
      "CARDIOVASCULAR\n",
      "2.0    216012\n",
      "1.0     17911\n",
      "Name: CARDIOVASCULAR, dtype: int64\n",
      "OBESITY\n",
      "2.0    170644\n",
      "1.0     63328\n",
      "Name: OBESITY, dtype: int64\n",
      "RENAL_CHRONIC\n",
      "2.0    216891\n",
      "1.0     17104\n",
      "Name: RENAL_CHRONIC, dtype: int64\n",
      "TOBACCO\n",
      "2.0    201163\n",
      "1.0     32625\n",
      "Name: TOBACCO, dtype: int64\n",
      "ICU\n",
      "2.0    115607\n",
      "1.0     15383\n",
      "Name: ICU, dtype: int64\n"
     ]
    }
   ],
   "source": [
    "for i in range(0,len(list2)):\n",
    "  print(list2[i])\n",
    "  data[list2[i]] = np.where((data[list2[i]] == 99) |(data[list2[i]] == 98) |(data[list2[i]] == 97),np.nan,data[list2[i]])\n",
    "  print(data[list2[i]].value_counts())\n"
   ]
  },
  {
   "cell_type": "code",
   "execution_count": 21,
   "metadata": {},
   "outputs": [
    {
     "name": "stdout",
     "output_type": "stream",
     "text": [
      "<class 'pandas.core.frame.DataFrame'>\n",
      "Int64Index: 236526 entries, 0 to 1048574\n",
      "Data columns (total 22 columns):\n",
      " #   Column                Non-Null Count   Dtype  \n",
      "---  ------                --------------   -----  \n",
      " 0   USMER                 236526 non-null  int64  \n",
      " 1   MEDICAL_UNIT          236526 non-null  int64  \n",
      " 2   SEX                   236526 non-null  int64  \n",
      " 3   PATIENT_TYPE          236526 non-null  int64  \n",
      " 4   DATE_DIED             236526 non-null  object \n",
      " 5   INTUBED               131139 non-null  float64\n",
      " 6   PNEUMONIA             229339 non-null  float64\n",
      " 7   AGE                   236218 non-null  float64\n",
      " 8   PREGNANT              236526 non-null  float64\n",
      " 9   DIABETES              233686 non-null  float64\n",
      " 10  COPD                  233997 non-null  float64\n",
      " 11  ASTHMA                234020 non-null  float64\n",
      " 12  INMSUPR               233600 non-null  float64\n",
      " 13  HIPERTENSION          233906 non-null  float64\n",
      " 14  OTHER_DISEASE         232164 non-null  float64\n",
      " 15  CARDIOVASCULAR        233923 non-null  float64\n",
      " 16  OBESITY               233972 non-null  float64\n",
      " 17  RENAL_CHRONIC         233995 non-null  float64\n",
      " 18  TOBACCO               233788 non-null  float64\n",
      " 19  CLASIFFICATION_FINAL  236526 non-null  int64  \n",
      " 20  ICU                   130990 non-null  float64\n",
      " 21  Death                 236526 non-null  int32  \n",
      "dtypes: float64(15), int32(1), int64(5), object(1)\n",
      "memory usage: 40.6+ MB\n"
     ]
    }
   ],
   "source": [
    "data.info()"
   ]
  },
  {
   "cell_type": "code",
   "execution_count": 22,
   "metadata": {
    "colab": {
     "base_uri": "https://localhost:8080/"
    },
    "id": "0t5I8m3gtYAa",
    "outputId": "8af05a3a-2df5-4656-df6d-49678b9ed900"
   },
   "outputs": [
    {
     "name": "stdout",
     "output_type": "stream",
     "text": [
      "44.55620100961416\n",
      "PNEUMONIA\n",
      "3.0385665846460856\n",
      "AGE\n",
      "0.13021824239195692\n",
      "PREGNANT\n",
      "0.0\n",
      "DIABETES\n",
      "1.2007136636141482\n",
      "COPD\n",
      "1.0692270617183735\n",
      "ASTHMA\n",
      "1.0595029721891038\n",
      "INMSUPR\n",
      "1.2370733027235907\n",
      "HIPERTENSION\n",
      "1.1077006333341788\n",
      "OTHER_DISEASE\n",
      "1.8441947185510261\n",
      "CARDIOVASCULAR\n",
      "1.100513262812545\n",
      "OBESITY\n",
      "1.0797967242501882\n",
      "RENAL_CHRONIC\n",
      "1.0700726347209186\n",
      "TOBACCO\n",
      "1.157589440484344\n",
      "44.619196198303776\n"
     ]
    }
   ],
   "source": [
    "s = []\n",
    "for i in range(0,len(list2)):\n",
    "    da = data[list2[i]].isnull().sum()\n",
    "    q = da/len(data)*100\n",
    "    if q < 5:\n",
    "      print(list2[i])\n",
    "      s.append(list2[i])\n",
    "    print(q)\n"
   ]
  },
  {
   "cell_type": "code",
   "execution_count": 23,
   "metadata": {
    "colab": {
     "base_uri": "https://localhost:8080/"
    },
    "id": "HQo22J4VsFxM",
    "outputId": "19261881-3d83-4927-f1d9-8337a97aa7eb",
    "scrolled": true
   },
   "outputs": [
    {
     "data": {
      "text/plain": [
       "list"
      ]
     },
     "execution_count": 23,
     "metadata": {},
     "output_type": "execute_result"
    }
   ],
   "source": [
    "type(s)"
   ]
  },
  {
   "cell_type": "code",
   "execution_count": 24,
   "metadata": {},
   "outputs": [],
   "source": [
    "data[s]=data[s].fillna(data.mode().iloc[0])"
   ]
  },
  {
   "cell_type": "code",
   "execution_count": 25,
   "metadata": {},
   "outputs": [
    {
     "name": "stdout",
     "output_type": "stream",
     "text": [
      "<class 'pandas.core.frame.DataFrame'>\n",
      "Int64Index: 236526 entries, 0 to 1048574\n",
      "Data columns (total 22 columns):\n",
      " #   Column                Non-Null Count   Dtype  \n",
      "---  ------                --------------   -----  \n",
      " 0   USMER                 236526 non-null  int64  \n",
      " 1   MEDICAL_UNIT          236526 non-null  int64  \n",
      " 2   SEX                   236526 non-null  int64  \n",
      " 3   PATIENT_TYPE          236526 non-null  int64  \n",
      " 4   DATE_DIED             236526 non-null  object \n",
      " 5   INTUBED               131139 non-null  float64\n",
      " 6   PNEUMONIA             236526 non-null  float64\n",
      " 7   AGE                   236526 non-null  float64\n",
      " 8   PREGNANT              236526 non-null  float64\n",
      " 9   DIABETES              236526 non-null  float64\n",
      " 10  COPD                  236526 non-null  float64\n",
      " 11  ASTHMA                236526 non-null  float64\n",
      " 12  INMSUPR               236526 non-null  float64\n",
      " 13  HIPERTENSION          236526 non-null  float64\n",
      " 14  OTHER_DISEASE         236526 non-null  float64\n",
      " 15  CARDIOVASCULAR        236526 non-null  float64\n",
      " 16  OBESITY               236526 non-null  float64\n",
      " 17  RENAL_CHRONIC         236526 non-null  float64\n",
      " 18  TOBACCO               236526 non-null  float64\n",
      " 19  CLASIFFICATION_FINAL  236526 non-null  int64  \n",
      " 20  ICU                   130990 non-null  float64\n",
      " 21  Death                 236526 non-null  int32  \n",
      "dtypes: float64(15), int32(1), int64(5), object(1)\n",
      "memory usage: 40.6+ MB\n"
     ]
    }
   ],
   "source": [
    "data.info()"
   ]
  },
  {
   "cell_type": "code",
   "execution_count": 26,
   "metadata": {
    "colab": {
     "base_uri": "https://localhost:8080/"
    },
    "id": "Mic3gvyGuEsE",
    "outputId": "9e7eb7ab-a071-417b-ff08-1ad4ee4f717f",
    "scrolled": true
   },
   "outputs": [],
   "source": [
    "# for i in range(0,len(s)):\n",
    "#     print(data[s[i]].value_counts())\n",
    "#     print(s[i])\n",
    "#     data.loc[data['s[i]'] == '?',['s[i]']] = data['s[i]'].mode()\n",
    "#     print(data[s[i]].value_counts())  \n",
    "        "
   ]
  },
  {
   "cell_type": "code",
   "execution_count": 27,
   "metadata": {},
   "outputs": [
    {
     "name": "stdout",
     "output_type": "stream",
     "text": [
      "<class 'pandas.core.frame.DataFrame'>\n",
      "Int64Index: 236526 entries, 0 to 1048574\n",
      "Data columns (total 22 columns):\n",
      " #   Column                Non-Null Count   Dtype  \n",
      "---  ------                --------------   -----  \n",
      " 0   USMER                 236526 non-null  int64  \n",
      " 1   MEDICAL_UNIT          236526 non-null  int64  \n",
      " 2   SEX                   236526 non-null  int64  \n",
      " 3   PATIENT_TYPE          236526 non-null  int64  \n",
      " 4   DATE_DIED             236526 non-null  object \n",
      " 5   INTUBED               131139 non-null  float64\n",
      " 6   PNEUMONIA             236526 non-null  float64\n",
      " 7   AGE                   236526 non-null  float64\n",
      " 8   PREGNANT              236526 non-null  float64\n",
      " 9   DIABETES              236526 non-null  float64\n",
      " 10  COPD                  236526 non-null  float64\n",
      " 11  ASTHMA                236526 non-null  float64\n",
      " 12  INMSUPR               236526 non-null  float64\n",
      " 13  HIPERTENSION          236526 non-null  float64\n",
      " 14  OTHER_DISEASE         236526 non-null  float64\n",
      " 15  CARDIOVASCULAR        236526 non-null  float64\n",
      " 16  OBESITY               236526 non-null  float64\n",
      " 17  RENAL_CHRONIC         236526 non-null  float64\n",
      " 18  TOBACCO               236526 non-null  float64\n",
      " 19  CLASIFFICATION_FINAL  236526 non-null  int64  \n",
      " 20  ICU                   130990 non-null  float64\n",
      " 21  Death                 236526 non-null  int32  \n",
      "dtypes: float64(15), int32(1), int64(5), object(1)\n",
      "memory usage: 40.6+ MB\n"
     ]
    }
   ],
   "source": [
    "data.info()"
   ]
  },
  {
   "cell_type": "code",
   "execution_count": 28,
   "metadata": {
    "colab": {
     "base_uri": "https://localhost:8080/",
     "height": 1000
    },
    "id": "pugcHFLxu0p0",
    "outputId": "a2dd0e70-ad22-40cc-f007-a0fffa84649b"
   },
   "outputs": [],
   "source": [
    "for col in data.select_dtypes(include='object'):\n",
    "    if data[col].nunique() <= 14:\n",
    "        sns.countplot(y=col, data=data)\n",
    "        plt.show()"
   ]
  },
  {
   "cell_type": "code",
   "execution_count": 29,
   "metadata": {
    "colab": {
     "base_uri": "https://localhost:8080/"
    },
    "id": "xKGhkzYw58ZE",
    "outputId": "e9f740ac-226d-4e77-ff98-c3a446adeb89"
   },
   "outputs": [
    {
     "data": {
      "text/plain": [
       "Index(['INTUBED', 'PNEUMONIA', 'AGE', 'PREGNANT', 'DIABETES', 'COPD', 'ASTHMA',\n",
       "       'INMSUPR', 'HIPERTENSION', 'OTHER_DISEASE', 'CARDIOVASCULAR', 'OBESITY',\n",
       "       'RENAL_CHRONIC', 'TOBACCO', 'ICU'],\n",
       "      dtype='object')"
      ]
     },
     "execution_count": 29,
     "metadata": {},
     "output_type": "execute_result"
    }
   ],
   "source": [
    "list2"
   ]
  },
  {
   "cell_type": "code",
   "execution_count": 30,
   "metadata": {
    "colab": {
     "base_uri": "https://localhost:8080/"
    },
    "id": "XbEWMxG572sX",
    "outputId": "8c9cef4f-4356-43e2-8526-bf76135a148c"
   },
   "outputs": [
    {
     "data": {
      "text/plain": [
       "['PNEUMONIA',\n",
       " 'AGE',\n",
       " 'PREGNANT',\n",
       " 'DIABETES',\n",
       " 'COPD',\n",
       " 'ASTHMA',\n",
       " 'INMSUPR',\n",
       " 'HIPERTENSION',\n",
       " 'OTHER_DISEASE',\n",
       " 'CARDIOVASCULAR',\n",
       " 'OBESITY',\n",
       " 'RENAL_CHRONIC',\n",
       " 'TOBACCO']"
      ]
     },
     "execution_count": 30,
     "metadata": {},
     "output_type": "execute_result"
    }
   ],
   "source": [
    "s"
   ]
  },
  {
   "cell_type": "code",
   "execution_count": 31,
   "metadata": {
    "colab": {
     "base_uri": "https://localhost:8080/"
    },
    "id": "oh3ZuiEP8zle",
    "outputId": "e25bdc2a-672f-4d18-d2fb-21d8183f216c"
   },
   "outputs": [],
   "source": [
    "# data[['INTUBED','PREGNANT','ICU']].apply(pd.Series.value_counts)\n",
    "\n",
    "# data['INTUBED'].value_counts(normalize = True)\n",
    "# data['PREGNANT'].value_counts(normalize = True)\n",
    "# data['ICU'].value_counts(normalize = True)"
   ]
  },
  {
   "cell_type": "code",
   "execution_count": 32,
   "metadata": {
    "id": "SkulLD54Q5j4"
   },
   "outputs": [],
   "source": [
    "data.drop(['ICU','INTUBED','DATE_DIED'],axis = 1,inplace = True)"
   ]
  },
  {
   "cell_type": "code",
   "execution_count": 33,
   "metadata": {
    "colab": {
     "base_uri": "https://localhost:8080/"
    },
    "id": "KR5UZfljRBta",
    "outputId": "97a8ef0f-3597-47d7-8a6b-d537658c27c1"
   },
   "outputs": [
    {
     "data": {
      "text/plain": [
       "USMER                   0\n",
       "MEDICAL_UNIT            0\n",
       "SEX                     0\n",
       "PATIENT_TYPE            0\n",
       "PNEUMONIA               0\n",
       "AGE                     0\n",
       "PREGNANT                0\n",
       "DIABETES                0\n",
       "COPD                    0\n",
       "ASTHMA                  0\n",
       "INMSUPR                 0\n",
       "HIPERTENSION            0\n",
       "OTHER_DISEASE           0\n",
       "CARDIOVASCULAR          0\n",
       "OBESITY                 0\n",
       "RENAL_CHRONIC           0\n",
       "TOBACCO                 0\n",
       "CLASIFFICATION_FINAL    0\n",
       "Death                   0\n",
       "dtype: int64"
      ]
     },
     "execution_count": 33,
     "metadata": {},
     "output_type": "execute_result"
    }
   ],
   "source": [
    "data.isnull().sum()"
   ]
  },
  {
   "cell_type": "code",
   "execution_count": 34,
   "metadata": {
    "id": "GBDfTufmREDT"
   },
   "outputs": [
    {
     "data": {
      "text/plain": [
       "Text(0.5, 1.0, 'Age by Death, Covid')"
      ]
     },
     "execution_count": 34,
     "metadata": {},
     "output_type": "execute_result"
    },
    {
     "data": {
      "image/png": "[encoded data removed]",
      "text/plain": [
       "<Figure size 576x360 with 1 Axes>"
      ]
     },
     "metadata": {
      "needs_background": "light"
     },
     "output_type": "display_data"
    }
   ],
   "source": [
    "plt.figure(figsize=(8,5))\n",
    "sns.boxplot(x='Death',y='AGE',data=data, palette='rainbow')\n",
    "plt.title(\"Age by Death, Covid\")"
   ]
  },
  {
   "cell_type": "code",
   "execution_count": 35,
   "metadata": {},
   "outputs": [
    {
     "data": {
      "text/plain": [
       "<AxesSubplot:xlabel='Death', ylabel='count'>"
      ]
     },
     "execution_count": 35,
     "metadata": {},
     "output_type": "execute_result"
    },
    {
     "data": {
      "image/png": "[encoded data removed]",
      "text/plain": [
       "<Figure size 576x360 with 1 Axes>"
      ]
     },
     "metadata": {
      "needs_background": "light"
     },
     "output_type": "display_data"
    }
   ],
   "source": [
    "plt.figure(figsize=(8,5))\n",
    "sns.countplot(x='Death',data=data, palette='rainbow',hue='SEX')\n"
   ]
  },
  {
   "cell_type": "code",
   "execution_count": 36,
   "metadata": {},
   "outputs": [],
   "source": [
    "# plt.figure(figsize=(8,5))\n",
    "# sns.barplot(x='embark_town',y='fare',data=titanic, palette='rainbow', hue='class')\n"
   ]
  },
  {
   "cell_type": "code",
   "execution_count": 37,
   "metadata": {
    "scrolled": true
   },
   "outputs": [
    {
     "data": {
      "text/plain": [
       "USMER                     2\n",
       "MEDICAL_UNIT             13\n",
       "SEX                       2\n",
       "PATIENT_TYPE              2\n",
       "PNEUMONIA                 2\n",
       "AGE                     118\n",
       "PREGNANT                  2\n",
       "DIABETES                  2\n",
       "COPD                      2\n",
       "ASTHMA                    2\n",
       "INMSUPR                   2\n",
       "HIPERTENSION              2\n",
       "OTHER_DISEASE             2\n",
       "CARDIOVASCULAR            2\n",
       "OBESITY                   2\n",
       "RENAL_CHRONIC             2\n",
       "TOBACCO                   2\n",
       "CLASIFFICATION_FINAL      7\n",
       "Death                     2\n",
       "dtype: int64"
      ]
     },
     "execution_count": 37,
     "metadata": {},
     "output_type": "execute_result"
    }
   ],
   "source": [
    "data.nunique()"
   ]
  },
  {
   "cell_type": "code",
   "execution_count": 38,
   "metadata": {},
   "outputs": [
    {
     "name": "stdout",
     "output_type": "stream",
     "text": [
      "<class 'pandas.core.frame.DataFrame'>\n",
      "Int64Index: 236526 entries, 0 to 1048574\n",
      "Data columns (total 19 columns):\n",
      " #   Column                Non-Null Count   Dtype  \n",
      "---  ------                --------------   -----  \n",
      " 0   USMER                 236526 non-null  int64  \n",
      " 1   MEDICAL_UNIT          236526 non-null  int64  \n",
      " 2   SEX                   236526 non-null  int64  \n",
      " 3   PATIENT_TYPE          236526 non-null  int64  \n",
      " 4   PNEUMONIA             236526 non-null  float64\n",
      " 5   AGE                   236526 non-null  float64\n",
      " 6   PREGNANT              236526 non-null  float64\n",
      " 7   DIABETES              236526 non-null  float64\n",
      " 8   COPD                  236526 non-null  float64\n",
      " 9   ASTHMA                236526 non-null  float64\n",
      " 10  INMSUPR               236526 non-null  float64\n",
      " 11  HIPERTENSION          236526 non-null  float64\n",
      " 12  OTHER_DISEASE         236526 non-null  float64\n",
      " 13  CARDIOVASCULAR        236526 non-null  float64\n",
      " 14  OBESITY               236526 non-null  float64\n",
      " 15  RENAL_CHRONIC         236526 non-null  float64\n",
      " 16  TOBACCO               236526 non-null  float64\n",
      " 17  CLASIFFICATION_FINAL  236526 non-null  int64  \n",
      " 18  Death                 236526 non-null  int32  \n",
      "dtypes: float64(13), int32(1), int64(5)\n",
      "memory usage: 35.2 MB\n"
     ]
    }
   ],
   "source": [
    "data.info()"
   ]
  },
  {
   "cell_type": "code",
   "execution_count": 39,
   "metadata": {},
   "outputs": [],
   "source": [
    "a = data.columns"
   ]
  },
  {
   "cell_type": "code",
   "execution_count": 40,
   "metadata": {},
   "outputs": [],
   "source": [
    "cat_col = ['USMER', 'MEDICAL_UNIT', 'SEX', 'PATIENT_TYPE', 'PNEUMONIA',\n",
    "       'PREGNANT', 'DIABETES', 'COPD', 'ASTHMA', 'INMSUPR', 'HIPERTENSION',\n",
    "       'OTHER_DISEASE', 'CARDIOVASCULAR', 'OBESITY', 'RENAL_CHRONIC',\n",
    "       'TOBACCO', 'CLASIFFICATION_FINAL']"
   ]
  },
  {
   "cell_type": "code",
   "execution_count": 41,
   "metadata": {},
   "outputs": [],
   "source": [
    "data[cat_col]=data[cat_col].astype('object')"
   ]
  },
  {
   "cell_type": "code",
   "execution_count": 42,
   "metadata": {},
   "outputs": [],
   "source": [
    "from sklearn.preprocessing import StandardScaler\n",
    "standard_scaler = StandardScaler()\n",
    "data['AGE'] = standard_scaler.fit_transform(data.loc[:,['AGE']])"
   ]
  },
  {
   "cell_type": "code",
   "execution_count": null,
   "metadata": {},
   "outputs": [],
   "source": [
    "import pickle \n",
    "pickle.dump(standard_scaler,open('scaling.pkl','wb'))"
   ]
  },
  {
   "cell_type": "code",
   "execution_count": 43,
   "metadata": {},
   "outputs": [],
   "source": [
    "y = data['Death']\n",
    "x = data.drop('Death', axis=1)"
   ]
  },
  {
   "cell_type": "code",
   "execution_count": 44,
   "metadata": {},
   "outputs": [],
   "source": [
    "from sklearn.model_selection import train_test_split\n",
    "train_x, test_x, train_y, test_y = train_test_split(x,y, test_size=0.2, random_state=42)\n"
   ]
  },
  {
   "cell_type": "code",
   "execution_count": 45,
   "metadata": {},
   "outputs": [
    {
     "name": "stderr",
     "output_type": "stream",
     "text": [
      "C:\\Users\\Ajith R\\anaconda3\\lib\\site-packages\\sklearn\\linear_model\\_logistic.py:814: ConvergenceWarning: lbfgs failed to converge (status=1):\n",
      "STOP: TOTAL NO. of ITERATIONS REACHED LIMIT.\n",
      "\n",
      "Increase the number of iterations (max_iter) or scale the data as shown in:\n",
      "    https://scikit-learn.org/stable/modules/preprocessing.html\n",
      "Please also refer to the documentation for alternative solver options:\n",
      "    https://scikit-learn.org/stable/modules/linear_model.html#logistic-regression\n",
      "  n_iter_i = _check_optimize_result(\n"
     ]
    },
    {
     "name": "stdout",
     "output_type": "stream",
     "text": [
      "Logistic Regression Accuracy : 0.7911681393480743\n"
     ]
    }
   ],
   "source": [
    "from sklearn.linear_model import LogisticRegression\n",
    "\n",
    "log_reg = LogisticRegression()\n",
    "log_reg.fit(train_x, train_y)\n",
    "print(\"Logistic Regression Accuracy :\", log_reg.score(test_x, test_y))"
   ]
  },
  {
   "cell_type": "code",
   "execution_count": 46,
   "metadata": {},
   "outputs": [
    {
     "name": "stdout",
     "output_type": "stream",
     "text": [
      "Train X : (189220, 18)\n",
      "Test X : (47306, 18)\n",
      "Train Y : (189220,)\n",
      "Test Y : (47306,)\n"
     ]
    }
   ],
   "source": [
    "print('Train X :', train_x.shape)\n",
    "print('Test X :', test_x.shape)\n",
    "print('Train Y :', train_y.shape)\n",
    "print('Test Y :', test_y .shape)"
   ]
  },
  {
   "cell_type": "code",
   "execution_count": 47,
   "metadata": {},
   "outputs": [
    {
     "name": "stdout",
     "output_type": "stream",
     "text": [
      "Logistic Regression F1 Score :  [0.66767585 0.84774601]\n"
     ]
    }
   ],
   "source": [
    "from sklearn.metrics import f1_score\n",
    "\n",
    "print(\"Logistic Regression F1 Score : \", f1_score(test_y, log_reg.predict(test_x),average=None))"
   ]
  },
  {
   "cell_type": "code",
   "execution_count": 48,
   "metadata": {},
   "outputs": [
    {
     "data": {
      "text/plain": [
       "Text(0.5, 1.0, 'Logistic Regression Confusion Matrix')"
      ]
     },
     "execution_count": 48,
     "metadata": {},
     "output_type": "execute_result"
    },
    {
     "data": {
      "image/png": "[encoded data removed]",
      "text/plain": [
       "<Figure size 432x288 with 2 Axes>"
      ]
     },
     "metadata": {
      "needs_background": "light"
     },
     "output_type": "display_data"
    }
   ],
   "source": [
    "from sklearn.metrics import confusion_matrix\n",
    "\n",
    "sns.heatmap(confusion_matrix(test_y, log_reg.predict(test_x)), annot=True, fmt='.0f')\n",
    "plt.title(\"Logistic Regression Confusion Matrix\", fontsize=18)"
   ]
  },
  {
   "cell_type": "code",
   "execution_count": 49,
   "metadata": {},
   "outputs": [
    {
     "data": {
      "text/plain": [
       "Text(0.5, 1.0, 'Death Distribution')"
      ]
     },
     "execution_count": 49,
     "metadata": {},
     "output_type": "execute_result"
    },
    {
     "data": {
      "image/png": "[encoded data removed]",
      "text/plain": [
       "<Figure size 432x288 with 1 Axes>"
      ]
     },
     "metadata": {
      "needs_background": "light"
     },
     "output_type": "display_data"
    }
   ],
   "source": [
    "ax = sns.countplot(x=data['Death'],palette='ch:start=.2,rot=-.3')\n",
    "plt.bar_label(ax.containers[0])\n",
    "plt.title('Death Distribution', fontsize=18)"
   ]
  },
  {
   "cell_type": "code",
   "execution_count": 50,
   "metadata": {},
   "outputs": [
    {
     "data": {
      "text/plain": [
       "RandomForestClassifier()"
      ]
     },
     "execution_count": 50,
     "metadata": {},
     "output_type": "execute_result"
    }
   ],
   "source": [
    "from sklearn.ensemble import RandomForestClassifier\n",
    "\n",
    "random_forest = RandomForestClassifier(n_estimators=100)\n",
    "random_forest.fit(train_x, train_y)"
   ]
  },
  {
   "cell_type": "code",
   "execution_count": 51,
   "metadata": {},
   "outputs": [
    {
     "name": "stdout",
     "output_type": "stream",
     "text": [
      "Random Forest Accuracy Score : 0.7725024309812709\n"
     ]
    }
   ],
   "source": [
    "from sklearn.metrics import accuracy_score\n",
    "\n",
    "print('Random Forest Accuracy Score :', accuracy_score(test_y,random_forest.predict(test_x)))"
   ]
  },
  {
   "cell_type": "code",
   "execution_count": 54,
   "metadata": {},
   "outputs": [],
   "source": [
    "pickle.dump(log_reg,open('covid_model_LR.pkl','wb'))"
   ]
  },
  {
   "cell_type": "code",
   "execution_count": 55,
   "metadata": {},
   "outputs": [],
   "source": [
    "pickled_model_LR = pickle.load(open('covid_model_LR.pkl','rb'))"
   ]
  },
  {
   "cell_type": "code",
   "execution_count": null,
   "metadata": {},
   "outputs": [],
   "source": []
  }
 ],
 "metadata": {
  "colab": {
   "provenance": []
  },
  "kernelspec": {
   "display_name": "Python 3 (ipykernel)",
   "language": "python",
   "name": "python3"
  },
  "language_info": {
   "codemirror_mode": {
    "name": "ipython",
    "version": 3
   },
   "file_extension": ".py",
   "mimetype": "text/x-python",
   "name": "python",
   "nbconvert_exporter": "python",
   "pygments_lexer": "ipython3",
   "version": "3.9.12"
  }
 },
 "nbformat": 4,
 "nbformat_minor": 1
}
